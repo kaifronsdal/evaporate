get_ipython().getoutput("pip freeze")


help('modules')


from manifest import Manifest


manifest = Manifest(
    client_name = "huggingface",
    client_connection = "http://127.0.0.1:5000",
)
